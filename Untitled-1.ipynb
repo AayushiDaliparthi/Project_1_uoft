{
 "cells": [
  {
   "cell_type": "code",
   "execution_count": null,
   "metadata": {},
   "outputs": [],
   "source": [
    "import csv\n",
    "from pathlib import Path\n",
    "import pandas as pd\n",
    "import numpy as np"
   ]
  },
  {
   "cell_type": "code",
   "execution_count": null,
   "metadata": {},
   "outputs": [],
   "source": [
    "psych_csv = Path(\"psyco.csv\")\n",
    "df = pd.read_csv(psych_csv)\n",
    "\n",
    "df.head()"
   ]
  },
  {
   "cell_type": "code",
   "execution_count": null,
   "metadata": {},
   "outputs": [],
   "source": [
    "# Clean incorrectly coded age range\n",
    "def age_modification(age_range):\n",
    "    if 'Dec-18' in age_range:\n",
    "        return \"0-18\"\n",
    "    else:\n",
    "        return age_range\n",
    "\n",
    "df['age'] = df['age'].apply(age_modification)\n",
    "    \n",
    "df.head()"
   ]
  },
  {
   "cell_type": "code",
   "execution_count": null,
   "metadata": {},
   "outputs": [],
   "source": [
    "# Change the binary columns into usable data\n",
    "\n",
    "# Loop through the rows to recode the values\n",
    "def recode_hw(value):\n",
    "    # Specify conditions and recoding mappings\n",
    "    conditions = [11, 101, 111, 1001, 1011, 1101, 1111]\n",
    "    recoding_mappings = [10, 100, 110, 1000, 1010, 1100, 1110]\n",
    "\n",
    "    if value in conditions:\n",
    "        return recoding_mappings[conditions.index(value)]\n",
    "    else:\n",
    "        return value\n",
    "\n",
    "# Apply to the binary columns\n",
    "df['recoded_like_hw'] = df['like_hw'].apply(recode_hw)\n",
    "df['recoded_dislike_hw'] = df['dislike_hw'].apply(recode_hw)\n",
    "\n",
    "df"
   ]
  },
  {
   "cell_type": "code",
   "execution_count": null,
   "metadata": {},
   "outputs": [],
   "source": [
    "# Ensure the values were recoded correctly and both columns have the same values \n",
    "likehw_unique_values = np.sort(df['recoded_like_hw'].unique())\n",
    "dislikehw_unique_values = np.sort(df['recoded_dislike_hw'].unique())\n",
    "\n",
    "print(f'The values in the sorted_like_hw column are {likehw_unique_values}')\n",
    "print(f'The values in the sorted_dislike_hw column are {dislikehw_unique_values}')"
   ]
  },
  {
   "cell_type": "code",
   "execution_count": null,
   "metadata": {},
   "outputs": [],
   "source": [
    "# As there are 8 unique values, convert values into a 8-point scale for easier interpretation\n",
    "scale_mapping = {\n",
    "    1: 1,\n",
    "    10: 2,\n",
    "    100: 3,\n",
    "    110: 4,\n",
    "    1000: 5,\n",
    "    1010: 6,\n",
    "    1100: 7,\n",
    "    1110: 8\n",
    "}\n",
    "\n",
    "df['scaled_like_hw'] = df['recoded_like_hw'].map(scale_mapping)\n",
    "df['scaled_dislike_hw'] = df['recoded_dislike_hw'].map(scale_mapping)\n",
    "\n",
    "df.head()"
   ]
  },
  {
   "cell_type": "code",
   "execution_count": null,
   "metadata": {},
   "outputs": [],
   "source": [
    "# Drop binary columns, recoded columns, and custom data columns \n",
    "df = df.drop(columns=[\"like_hw\", \"dislike_hw\", \"recoded_like_hw\", \"recoded_dislike_hw\", \"Unnamed: 19\", \"time_bp.1\", \"travel+work\"])\n",
    "df.head()"
   ]
  }
 ],
 "metadata": {
  "kernelspec": {
   "display_name": "base",
   "language": "python",
   "name": "python3"
  },
  "language_info": {
   "codemirror_mode": {
    "name": "ipython",
    "version": 3
   },
   "file_extension": ".py",
   "mimetype": "text/x-python",
   "name": "python",
   "nbconvert_exporter": "python",
   "pygments_lexer": "ipython3",
   "version": "3.11.5"
  }
 },
 "nbformat": 4,
 "nbformat_minor": 2
}
